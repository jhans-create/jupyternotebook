{
 "cells": [
  {
   "cell_type": "markdown",
   "id": "ea9e8017-9094-4118-aeaa-38f5cf6f79ae",
   "metadata": {},
   "source": [
    "# Data Science Tools and Ecosystem"
   ]
  },
  {
   "cell_type": "markdown",
   "id": "26f871bb-0558-471f-87bf-9b95b204d8fb",
   "metadata": {},
   "source": [
    "In this notebook, Data Science Tools and Ecosystem are summarized."
   ]
  },
  {
   "cell_type": "markdown",
   "id": "0a124f4f-7f0f-421c-848e-c947c105b8dd",
   "metadata": {},
   "source": [
    "__Objective__\n",
    "* List of popular languages that data scientists use\n",
    "* List of commonly used libraries used by data scientists\n",
    "* List of of data science tools"
   ]
  },
  {
   "cell_type": "markdown",
   "id": "858a9dbb-7443-4479-ab0e-7b48e00f8b9c",
   "metadata": {},
   "source": [
    "Some of the popular languages that Data Scientists use are:\n",
    "1. Python\n",
    "2. R\n",
    "3. SQL\n",
    "4. C++ etc..;"
   ]
  },
  {
   "cell_type": "markdown",
   "id": "78d9d2d2-5320-4ff0-a159-7cd93ba15748",
   "metadata": {},
   "source": [
    "Some of the commonly used libraries used by Data Scientists include:\n",
    "1. TensorFlow\n",
    "2. NumPy\n",
    "3. SciPy\n",
    "4. Pandas\n",
    "5. Matplotlib\n",
    "6. Keras"
   ]
  },
  {
   "cell_type": "markdown",
   "id": "9cfb290d-43b8-4ff3-8481-18c23aa46a3d",
   "metadata": {},
   "source": [
    "|Data Science Tools|\n",
    "|---|\n",
    "|SAS|\n",
    "|Apache Hadoop|\n",
    "|TensorFlow|"
   ]
  },
  {
   "cell_type": "markdown",
   "id": "8af4747d-57de-47d2-8dab-6c2725fffccc",
   "metadata": {},
   "source": [
    "### Below are a few examples of evaluating arithmetic expressions in Python"
   ]
  },
  {
   "cell_type": "code",
   "execution_count": 11,
   "id": "470a07f5-74b2-4194-92a2-0bb9fcbee5c0",
   "metadata": {},
   "outputs": [
    {
     "data": {
      "text/plain": [
       "17"
      ]
     },
     "execution_count": 11,
     "metadata": {},
     "output_type": "execute_result"
    }
   ],
   "source": [
    "#This a simple arithmetic expression to multiply then add integers\n",
    "(3*4)+5"
   ]
  },
  {
   "cell_type": "code",
   "execution_count": 10,
   "id": "b296ef45-26c2-4ff4-94ed-023916ef5552",
   "metadata": {},
   "outputs": [
    {
     "data": {
      "text/plain": [
       "3.3333333333333335"
      ]
     },
     "execution_count": 10,
     "metadata": {},
     "output_type": "execute_result"
    }
   ],
   "source": [
    "#This will convert 200 minutes to hours by diving by 60\n",
    "200/60"
   ]
  },
  {
   "cell_type": "markdown",
   "id": "5d0aa71b-8eaf-4264-82af-b86ac2bda7fc",
   "metadata": {},
   "source": [
    "## Author\n",
    "Jeremy Hans"
   ]
  },
  {
   "cell_type": "code",
   "execution_count": null,
   "id": "c6cc8541-3791-4b9c-8098-b12170fe1ddd",
   "metadata": {},
   "outputs": [],
   "source": []
  }
 ],
 "metadata": {
  "kernelspec": {
   "display_name": "Python 3 (ipykernel)",
   "language": "python",
   "name": "python3"
  },
  "language_info": {
   "codemirror_mode": {
    "name": "ipython",
    "version": 3
   },
   "file_extension": ".py",
   "mimetype": "text/x-python",
   "name": "python",
   "nbconvert_exporter": "python",
   "pygments_lexer": "ipython3",
   "version": "3.11.9"
  }
 },
 "nbformat": 4,
 "nbformat_minor": 5
}
